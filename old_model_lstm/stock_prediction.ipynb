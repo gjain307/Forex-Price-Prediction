{
 "cells": [
  {
   "cell_type": "code",
   "execution_count": 44,
   "metadata": {},
   "outputs": [],
   "source": [
    "import pandas as pd;\n",
    "import numpy as np;\n",
    "import matplotlib.pyplot as plt;\n",
    "import seaborn as sns;\n",
    "from sklearn.preprocessing import LabelEncoder\n",
    "from sklearn.metrics import f1_score, accuracy_score, classification_report\n",
    "from sklearn.model_selection import KFold\n",
    "from sklearn.model_selection import train_test_split\n",
    "from sklearn.ensemble import RandomForestClassifier\n",
    "from joblib import dump, load\n",
    "import os\n",
    "from sklearn.preprocessing import MinMaxScaler"
   ]
  },
  {
   "cell_type": "code",
   "execution_count": 8,
   "metadata": {},
   "outputs": [],
   "source": [
    "path = \"C:/Users/jaing5/Desktop/upwork/project_dennis/AUD_CAD/\""
   ]
  },
  {
   "cell_type": "code",
   "execution_count": 9,
   "metadata": {},
   "outputs": [],
   "source": [
    "import os\n",
    "import glob\n",
    "import pandas as pd\n",
    "os.chdir(path)"
   ]
  },
  {
   "cell_type": "code",
   "execution_count": 10,
   "metadata": {},
   "outputs": [],
   "source": [
    "list_csv = os.listdir(path)"
   ]
  },
  {
   "cell_type": "code",
   "execution_count": 11,
   "metadata": {},
   "outputs": [],
   "source": [
    "extension = 'csv'\n",
    "all_filenames = [i for i in glob.glob('*.{}'.format(extension))]"
   ]
  },
  {
   "cell_type": "code",
   "execution_count": 12,
   "metadata": {},
   "outputs": [
    {
     "data": {
      "text/plain": [
       "['AUDCAD.CSV']"
      ]
     },
     "execution_count": 12,
     "metadata": {},
     "output_type": "execute_result"
    }
   ],
   "source": [
    "all_filenames"
   ]
  },
  {
   "cell_type": "code",
   "execution_count": 13,
   "metadata": {},
   "outputs": [],
   "source": [
    "combined_csv = pd.concat([pd.read_csv(f) for f in list_csv ])"
   ]
  },
  {
   "cell_type": "code",
   "execution_count": 14,
   "metadata": {},
   "outputs": [
    {
     "data": {
      "text/html": [
       "<div>\n",
       "<style scoped>\n",
       "    .dataframe tbody tr th:only-of-type {\n",
       "        vertical-align: middle;\n",
       "    }\n",
       "\n",
       "    .dataframe tbody tr th {\n",
       "        vertical-align: top;\n",
       "    }\n",
       "\n",
       "    .dataframe thead th {\n",
       "        text-align: right;\n",
       "    }\n",
       "</style>\n",
       "<table border=\"1\" class=\"dataframe\">\n",
       "  <thead>\n",
       "    <tr style=\"text-align: right;\">\n",
       "      <th></th>\n",
       "      <th>Date</th>\n",
       "      <th>Open</th>\n",
       "      <th>High</th>\n",
       "      <th>Low</th>\n",
       "      <th>Close</th>\n",
       "    </tr>\n",
       "  </thead>\n",
       "  <tbody>\n",
       "    <tr>\n",
       "      <th>0</th>\n",
       "      <td>1/2/1991</td>\n",
       "      <td>0.8958</td>\n",
       "      <td>0.8996</td>\n",
       "      <td>0.8947</td>\n",
       "      <td>0.8950</td>\n",
       "    </tr>\n",
       "    <tr>\n",
       "      <th>1</th>\n",
       "      <td>1/3/1991</td>\n",
       "      <td>0.8950</td>\n",
       "      <td>0.9009</td>\n",
       "      <td>0.8944</td>\n",
       "      <td>0.8976</td>\n",
       "    </tr>\n",
       "    <tr>\n",
       "      <th>2</th>\n",
       "      <td>1/4/1991</td>\n",
       "      <td>0.8980</td>\n",
       "      <td>0.9007</td>\n",
       "      <td>0.8966</td>\n",
       "      <td>0.8969</td>\n",
       "    </tr>\n",
       "    <tr>\n",
       "      <th>3</th>\n",
       "      <td>1/7/1991</td>\n",
       "      <td>0.8964</td>\n",
       "      <td>0.9013</td>\n",
       "      <td>0.8939</td>\n",
       "      <td>0.8977</td>\n",
       "    </tr>\n",
       "    <tr>\n",
       "      <th>4</th>\n",
       "      <td>1/8/1991</td>\n",
       "      <td>0.8977</td>\n",
       "      <td>0.8987</td>\n",
       "      <td>0.8941</td>\n",
       "      <td>0.8965</td>\n",
       "    </tr>\n",
       "    <tr>\n",
       "      <th>...</th>\n",
       "      <td>...</td>\n",
       "      <td>...</td>\n",
       "      <td>...</td>\n",
       "      <td>...</td>\n",
       "      <td>...</td>\n",
       "    </tr>\n",
       "    <tr>\n",
       "      <th>7376</th>\n",
       "      <td>4/13/2020</td>\n",
       "      <td>0.8851</td>\n",
       "      <td>0.8918</td>\n",
       "      <td>0.8833</td>\n",
       "      <td>0.8877</td>\n",
       "    </tr>\n",
       "    <tr>\n",
       "      <th>7377</th>\n",
       "      <td>4/14/2020</td>\n",
       "      <td>0.8879</td>\n",
       "      <td>0.8962</td>\n",
       "      <td>0.8864</td>\n",
       "      <td>0.8950</td>\n",
       "    </tr>\n",
       "    <tr>\n",
       "      <th>7378</th>\n",
       "      <td>4/15/2020</td>\n",
       "      <td>0.8948</td>\n",
       "      <td>0.8957</td>\n",
       "      <td>0.8846</td>\n",
       "      <td>0.8910</td>\n",
       "    </tr>\n",
       "    <tr>\n",
       "      <th>7379</th>\n",
       "      <td>4/16/2020</td>\n",
       "      <td>0.8921</td>\n",
       "      <td>0.8935</td>\n",
       "      <td>0.8853</td>\n",
       "      <td>0.8903</td>\n",
       "    </tr>\n",
       "    <tr>\n",
       "      <th>7380</th>\n",
       "      <td>4/17/2020</td>\n",
       "      <td>0.8913</td>\n",
       "      <td>0.8975</td>\n",
       "      <td>0.8897</td>\n",
       "      <td>0.8931</td>\n",
       "    </tr>\n",
       "  </tbody>\n",
       "</table>\n",
       "<p>7381 rows × 5 columns</p>\n",
       "</div>"
      ],
      "text/plain": [
       "           Date    Open    High     Low   Close\n",
       "0      1/2/1991  0.8958  0.8996  0.8947  0.8950\n",
       "1      1/3/1991  0.8950  0.9009  0.8944  0.8976\n",
       "2      1/4/1991  0.8980  0.9007  0.8966  0.8969\n",
       "3      1/7/1991  0.8964  0.9013  0.8939  0.8977\n",
       "4      1/8/1991  0.8977  0.8987  0.8941  0.8965\n",
       "...         ...     ...     ...     ...     ...\n",
       "7376  4/13/2020  0.8851  0.8918  0.8833  0.8877\n",
       "7377  4/14/2020  0.8879  0.8962  0.8864  0.8950\n",
       "7378  4/15/2020  0.8948  0.8957  0.8846  0.8910\n",
       "7379  4/16/2020  0.8921  0.8935  0.8853  0.8903\n",
       "7380  4/17/2020  0.8913  0.8975  0.8897  0.8931\n",
       "\n",
       "[7381 rows x 5 columns]"
      ]
     },
     "execution_count": 14,
     "metadata": {},
     "output_type": "execute_result"
    }
   ],
   "source": [
    "combined_csv\n"
   ]
  },
  {
   "cell_type": "code",
   "execution_count": 111,
   "metadata": {},
   "outputs": [],
   "source": [
    "df = combined_csv.sort_values(by=\"OpenTime\")"
   ]
  },
  {
   "cell_type": "code",
   "execution_count": 112,
   "metadata": {},
   "outputs": [
    {
     "data": {
      "text/html": [
       "<div>\n",
       "<style scoped>\n",
       "    .dataframe tbody tr th:only-of-type {\n",
       "        vertical-align: middle;\n",
       "    }\n",
       "\n",
       "    .dataframe tbody tr th {\n",
       "        vertical-align: top;\n",
       "    }\n",
       "\n",
       "    .dataframe thead th {\n",
       "        text-align: right;\n",
       "    }\n",
       "</style>\n",
       "<table border=\"1\" class=\"dataframe\">\n",
       "  <thead>\n",
       "    <tr style=\"text-align: right;\">\n",
       "      <th></th>\n",
       "      <th>Ticket</th>\n",
       "      <th>Symbol</th>\n",
       "      <th>Action</th>\n",
       "      <th>OpenTime</th>\n",
       "      <th>OpenPrice</th>\n",
       "      <th>Size</th>\n",
       "      <th>CloseTime</th>\n",
       "      <th>ClosePrice</th>\n",
       "      <th>PL</th>\n",
       "      <th>Comment</th>\n",
       "      <th>Unused1</th>\n",
       "      <th>Unused2</th>\n",
       "      <th>Unused3</th>\n",
       "      <th>Unused4</th>\n",
       "      <th>Unused5</th>\n",
       "    </tr>\n",
       "  </thead>\n",
       "  <tbody>\n",
       "    <tr>\n",
       "      <th>0</th>\n",
       "      <td>1</td>\n",
       "      <td>AUDUSD</td>\n",
       "      <td>Buy</td>\n",
       "      <td>2003-08-13 21:00:02.226</td>\n",
       "      <td>0.6582</td>\n",
       "      <td>0.01</td>\n",
       "      <td>2003-08-27 21:00:03.467</td>\n",
       "      <td>0.6391</td>\n",
       "      <td>-19.69</td>\n",
       "      <td>D:\\Synergy Development\\Signals\\AUDUSD\\24122019...</td>\n",
       "      <td>0</td>\n",
       "      <td>0</td>\n",
       "      <td>0</td>\n",
       "      <td>0</td>\n",
       "      <td>0</td>\n",
       "    </tr>\n",
       "    <tr>\n",
       "      <th>0</th>\n",
       "      <td>1</td>\n",
       "      <td>AUDUSD</td>\n",
       "      <td>Buy</td>\n",
       "      <td>2003-08-13 21:00:02.226</td>\n",
       "      <td>0.6582</td>\n",
       "      <td>0.01</td>\n",
       "      <td>2003-08-27 21:00:03.467</td>\n",
       "      <td>0.6391</td>\n",
       "      <td>-19.69</td>\n",
       "      <td>D:\\Synergy Development\\Signals\\AUDUSD\\24122019...</td>\n",
       "      <td>0</td>\n",
       "      <td>0</td>\n",
       "      <td>0</td>\n",
       "      <td>0</td>\n",
       "      <td>0</td>\n",
       "    </tr>\n",
       "    <tr>\n",
       "      <th>0</th>\n",
       "      <td>1</td>\n",
       "      <td>AUDUSD</td>\n",
       "      <td>Sell</td>\n",
       "      <td>2003-08-18 00:00:04.527</td>\n",
       "      <td>0.6609</td>\n",
       "      <td>0.01</td>\n",
       "      <td>2003-08-27 21:00:03.467</td>\n",
       "      <td>0.6391</td>\n",
       "      <td>21.44</td>\n",
       "      <td>D:\\Synergy Development\\Signals\\AUDUSD\\24122019...</td>\n",
       "      <td>0</td>\n",
       "      <td>0</td>\n",
       "      <td>0</td>\n",
       "      <td>0</td>\n",
       "      <td>0</td>\n",
       "    </tr>\n",
       "    <tr>\n",
       "      <th>1</th>\n",
       "      <td>2</td>\n",
       "      <td>AUDUSD</td>\n",
       "      <td>Buy</td>\n",
       "      <td>2003-08-27 21:00:03.467</td>\n",
       "      <td>0.6391</td>\n",
       "      <td>0.01</td>\n",
       "      <td>2003-08-28 21:00:02.279</td>\n",
       "      <td>0.6399</td>\n",
       "      <td>0.58</td>\n",
       "      <td>D:\\Synergy Development\\Signals\\AUDUSD\\24122019...</td>\n",
       "      <td>0</td>\n",
       "      <td>0</td>\n",
       "      <td>0</td>\n",
       "      <td>0</td>\n",
       "      <td>0</td>\n",
       "    </tr>\n",
       "    <tr>\n",
       "      <th>2</th>\n",
       "      <td>3</td>\n",
       "      <td>AUDUSD</td>\n",
       "      <td>Sell</td>\n",
       "      <td>2003-08-28 21:00:02.279</td>\n",
       "      <td>0.6399</td>\n",
       "      <td>0.01</td>\n",
       "      <td>2003-09-04 21:00:00.815</td>\n",
       "      <td>0.6420</td>\n",
       "      <td>-2.54</td>\n",
       "      <td>D:\\Synergy Development\\Signals\\AUDUSD\\24122019...</td>\n",
       "      <td>0</td>\n",
       "      <td>0</td>\n",
       "      <td>0</td>\n",
       "      <td>0</td>\n",
       "      <td>0</td>\n",
       "    </tr>\n",
       "    <tr>\n",
       "      <th>...</th>\n",
       "      <td>...</td>\n",
       "      <td>...</td>\n",
       "      <td>...</td>\n",
       "      <td>...</td>\n",
       "      <td>...</td>\n",
       "      <td>...</td>\n",
       "      <td>...</td>\n",
       "      <td>...</td>\n",
       "      <td>...</td>\n",
       "      <td>...</td>\n",
       "      <td>...</td>\n",
       "      <td>...</td>\n",
       "      <td>...</td>\n",
       "      <td>...</td>\n",
       "      <td>...</td>\n",
       "    </tr>\n",
       "    <tr>\n",
       "      <th>745</th>\n",
       "      <td>746</td>\n",
       "      <td>AUDUSD</td>\n",
       "      <td>Sell</td>\n",
       "      <td>2020-03-23 21:03:45.855</td>\n",
       "      <td>0.5823</td>\n",
       "      <td>0.01</td>\n",
       "      <td>2020-03-24 21:00:02.898</td>\n",
       "      <td>0.5954</td>\n",
       "      <td>-14.76</td>\n",
       "      <td>D:\\Synergy Development\\Signals\\AUDUSD\\24122019...</td>\n",
       "      <td>0</td>\n",
       "      <td>0</td>\n",
       "      <td>0</td>\n",
       "      <td>0</td>\n",
       "      <td>0</td>\n",
       "    </tr>\n",
       "    <tr>\n",
       "      <th>776</th>\n",
       "      <td>777</td>\n",
       "      <td>AUDUSD</td>\n",
       "      <td>Buy</td>\n",
       "      <td>2020-03-23 21:03:45.855</td>\n",
       "      <td>0.5823</td>\n",
       "      <td>0.01</td>\n",
       "      <td>2020-03-24 21:00:02.898</td>\n",
       "      <td>0.5954</td>\n",
       "      <td>11.50</td>\n",
       "      <td>D:\\Synergy Development\\Signals\\AUDUSD\\24122019...</td>\n",
       "      <td>0</td>\n",
       "      <td>0</td>\n",
       "      <td>0</td>\n",
       "      <td>0</td>\n",
       "      <td>0</td>\n",
       "    </tr>\n",
       "    <tr>\n",
       "      <th>818</th>\n",
       "      <td>819</td>\n",
       "      <td>AUDUSD</td>\n",
       "      <td>Buy</td>\n",
       "      <td>2020-03-23 21:03:45.855</td>\n",
       "      <td>0.5823</td>\n",
       "      <td>0.01</td>\n",
       "      <td>2020-03-24 21:00:02.898</td>\n",
       "      <td>0.5954</td>\n",
       "      <td>11.50</td>\n",
       "      <td>D:\\Synergy Development\\Signals\\AUDUSD\\24122019...</td>\n",
       "      <td>0</td>\n",
       "      <td>0</td>\n",
       "      <td>0</td>\n",
       "      <td>0</td>\n",
       "      <td>0</td>\n",
       "    </tr>\n",
       "    <tr>\n",
       "      <th>777</th>\n",
       "      <td>778</td>\n",
       "      <td>AUDUSD</td>\n",
       "      <td>Sell</td>\n",
       "      <td>2020-03-24 21:00:02.898</td>\n",
       "      <td>0.5954</td>\n",
       "      <td>0.01</td>\n",
       "      <td>2020-03-25 21:00:00.070</td>\n",
       "      <td>0.5958</td>\n",
       "      <td>-1.69</td>\n",
       "      <td>D:\\Synergy Development\\Signals\\AUDUSD\\24122019...</td>\n",
       "      <td>0</td>\n",
       "      <td>0</td>\n",
       "      <td>0</td>\n",
       "      <td>0</td>\n",
       "      <td>0</td>\n",
       "    </tr>\n",
       "    <tr>\n",
       "      <th>819</th>\n",
       "      <td>820</td>\n",
       "      <td>AUDUSD</td>\n",
       "      <td>Sell</td>\n",
       "      <td>2020-03-24 21:00:02.898</td>\n",
       "      <td>0.5954</td>\n",
       "      <td>0.01</td>\n",
       "      <td>2020-03-25 21:00:00.070</td>\n",
       "      <td>0.5958</td>\n",
       "      <td>-1.69</td>\n",
       "      <td>D:\\Synergy Development\\Signals\\AUDUSD\\24122019...</td>\n",
       "      <td>0</td>\n",
       "      <td>0</td>\n",
       "      <td>0</td>\n",
       "      <td>0</td>\n",
       "      <td>0</td>\n",
       "    </tr>\n",
       "  </tbody>\n",
       "</table>\n",
       "<p>29162 rows × 15 columns</p>\n",
       "</div>"
      ],
      "text/plain": [
       "     Ticket  Symbol Action                 OpenTime  OpenPrice  Size  \\\n",
       "0         1  AUDUSD    Buy  2003-08-13 21:00:02.226     0.6582  0.01   \n",
       "0         1  AUDUSD    Buy  2003-08-13 21:00:02.226     0.6582  0.01   \n",
       "0         1  AUDUSD   Sell  2003-08-18 00:00:04.527     0.6609  0.01   \n",
       "1         2  AUDUSD    Buy  2003-08-27 21:00:03.467     0.6391  0.01   \n",
       "2         3  AUDUSD   Sell  2003-08-28 21:00:02.279     0.6399  0.01   \n",
       "..      ...     ...    ...                      ...        ...   ...   \n",
       "745     746  AUDUSD   Sell  2020-03-23 21:03:45.855     0.5823  0.01   \n",
       "776     777  AUDUSD    Buy  2020-03-23 21:03:45.855     0.5823  0.01   \n",
       "818     819  AUDUSD    Buy  2020-03-23 21:03:45.855     0.5823  0.01   \n",
       "777     778  AUDUSD   Sell  2020-03-24 21:00:02.898     0.5954  0.01   \n",
       "819     820  AUDUSD   Sell  2020-03-24 21:00:02.898     0.5954  0.01   \n",
       "\n",
       "                   CloseTime  ClosePrice     PL  \\\n",
       "0    2003-08-27 21:00:03.467      0.6391 -19.69   \n",
       "0    2003-08-27 21:00:03.467      0.6391 -19.69   \n",
       "0    2003-08-27 21:00:03.467      0.6391  21.44   \n",
       "1    2003-08-28 21:00:02.279      0.6399   0.58   \n",
       "2    2003-09-04 21:00:00.815      0.6420  -2.54   \n",
       "..                       ...         ...    ...   \n",
       "745  2020-03-24 21:00:02.898      0.5954 -14.76   \n",
       "776  2020-03-24 21:00:02.898      0.5954  11.50   \n",
       "818  2020-03-24 21:00:02.898      0.5954  11.50   \n",
       "777  2020-03-25 21:00:00.070      0.5958  -1.69   \n",
       "819  2020-03-25 21:00:00.070      0.5958  -1.69   \n",
       "\n",
       "                                               Comment  Unused1  Unused2  \\\n",
       "0    D:\\Synergy Development\\Signals\\AUDUSD\\24122019...        0        0   \n",
       "0    D:\\Synergy Development\\Signals\\AUDUSD\\24122019...        0        0   \n",
       "0    D:\\Synergy Development\\Signals\\AUDUSD\\24122019...        0        0   \n",
       "1    D:\\Synergy Development\\Signals\\AUDUSD\\24122019...        0        0   \n",
       "2    D:\\Synergy Development\\Signals\\AUDUSD\\24122019...        0        0   \n",
       "..                                                 ...      ...      ...   \n",
       "745  D:\\Synergy Development\\Signals\\AUDUSD\\24122019...        0        0   \n",
       "776  D:\\Synergy Development\\Signals\\AUDUSD\\24122019...        0        0   \n",
       "818  D:\\Synergy Development\\Signals\\AUDUSD\\24122019...        0        0   \n",
       "777  D:\\Synergy Development\\Signals\\AUDUSD\\24122019...        0        0   \n",
       "819  D:\\Synergy Development\\Signals\\AUDUSD\\24122019...        0        0   \n",
       "\n",
       "     Unused3  Unused4  Unused5  \n",
       "0          0        0        0  \n",
       "0          0        0        0  \n",
       "0          0        0        0  \n",
       "1          0        0        0  \n",
       "2          0        0        0  \n",
       "..       ...      ...      ...  \n",
       "745        0        0        0  \n",
       "776        0        0        0  \n",
       "818        0        0        0  \n",
       "777        0        0        0  \n",
       "819        0        0        0  \n",
       "\n",
       "[29162 rows x 15 columns]"
      ]
     },
     "execution_count": 112,
     "metadata": {},
     "output_type": "execute_result"
    }
   ],
   "source": [
    "df"
   ]
  },
  {
   "cell_type": "code",
   "execution_count": 102,
   "metadata": {},
   "outputs": [],
   "source": [
    "training_set = df.drop_duplicates(subset=None, keep='first', inplace=False)"
   ]
  },
  {
   "cell_type": "code",
   "execution_count": 15,
   "metadata": {},
   "outputs": [],
   "source": [
    "training_set = combined_csv"
   ]
  },
  {
   "cell_type": "code",
   "execution_count": 17,
   "metadata": {},
   "outputs": [],
   "source": [
    "feature_columns = ['Open', 'High', 'Low']"
   ]
  },
  {
   "cell_type": "code",
   "execution_count": 18,
   "metadata": {},
   "outputs": [
    {
     "data": {
      "text/html": [
       "<div>\n",
       "<style scoped>\n",
       "    .dataframe tbody tr th:only-of-type {\n",
       "        vertical-align: middle;\n",
       "    }\n",
       "\n",
       "    .dataframe tbody tr th {\n",
       "        vertical-align: top;\n",
       "    }\n",
       "\n",
       "    .dataframe thead th {\n",
       "        text-align: right;\n",
       "    }\n",
       "</style>\n",
       "<table border=\"1\" class=\"dataframe\">\n",
       "  <thead>\n",
       "    <tr style=\"text-align: right;\">\n",
       "      <th></th>\n",
       "      <th>Date</th>\n",
       "      <th>Open</th>\n",
       "      <th>High</th>\n",
       "      <th>Low</th>\n",
       "      <th>Close</th>\n",
       "    </tr>\n",
       "  </thead>\n",
       "  <tbody>\n",
       "    <tr>\n",
       "      <th>0</th>\n",
       "      <td>1/2/1991</td>\n",
       "      <td>0.8958</td>\n",
       "      <td>0.8996</td>\n",
       "      <td>0.8947</td>\n",
       "      <td>0.8950</td>\n",
       "    </tr>\n",
       "    <tr>\n",
       "      <th>1</th>\n",
       "      <td>1/3/1991</td>\n",
       "      <td>0.8950</td>\n",
       "      <td>0.9009</td>\n",
       "      <td>0.8944</td>\n",
       "      <td>0.8976</td>\n",
       "    </tr>\n",
       "    <tr>\n",
       "      <th>2</th>\n",
       "      <td>1/4/1991</td>\n",
       "      <td>0.8980</td>\n",
       "      <td>0.9007</td>\n",
       "      <td>0.8966</td>\n",
       "      <td>0.8969</td>\n",
       "    </tr>\n",
       "    <tr>\n",
       "      <th>3</th>\n",
       "      <td>1/7/1991</td>\n",
       "      <td>0.8964</td>\n",
       "      <td>0.9013</td>\n",
       "      <td>0.8939</td>\n",
       "      <td>0.8977</td>\n",
       "    </tr>\n",
       "    <tr>\n",
       "      <th>4</th>\n",
       "      <td>1/8/1991</td>\n",
       "      <td>0.8977</td>\n",
       "      <td>0.8987</td>\n",
       "      <td>0.8941</td>\n",
       "      <td>0.8965</td>\n",
       "    </tr>\n",
       "    <tr>\n",
       "      <th>...</th>\n",
       "      <td>...</td>\n",
       "      <td>...</td>\n",
       "      <td>...</td>\n",
       "      <td>...</td>\n",
       "      <td>...</td>\n",
       "    </tr>\n",
       "    <tr>\n",
       "      <th>7376</th>\n",
       "      <td>4/13/2020</td>\n",
       "      <td>0.8851</td>\n",
       "      <td>0.8918</td>\n",
       "      <td>0.8833</td>\n",
       "      <td>0.8877</td>\n",
       "    </tr>\n",
       "    <tr>\n",
       "      <th>7377</th>\n",
       "      <td>4/14/2020</td>\n",
       "      <td>0.8879</td>\n",
       "      <td>0.8962</td>\n",
       "      <td>0.8864</td>\n",
       "      <td>0.8950</td>\n",
       "    </tr>\n",
       "    <tr>\n",
       "      <th>7378</th>\n",
       "      <td>4/15/2020</td>\n",
       "      <td>0.8948</td>\n",
       "      <td>0.8957</td>\n",
       "      <td>0.8846</td>\n",
       "      <td>0.8910</td>\n",
       "    </tr>\n",
       "    <tr>\n",
       "      <th>7379</th>\n",
       "      <td>4/16/2020</td>\n",
       "      <td>0.8921</td>\n",
       "      <td>0.8935</td>\n",
       "      <td>0.8853</td>\n",
       "      <td>0.8903</td>\n",
       "    </tr>\n",
       "    <tr>\n",
       "      <th>7380</th>\n",
       "      <td>4/17/2020</td>\n",
       "      <td>0.8913</td>\n",
       "      <td>0.8975</td>\n",
       "      <td>0.8897</td>\n",
       "      <td>0.8931</td>\n",
       "    </tr>\n",
       "  </tbody>\n",
       "</table>\n",
       "<p>7381 rows × 5 columns</p>\n",
       "</div>"
      ],
      "text/plain": [
       "           Date    Open    High     Low   Close\n",
       "0      1/2/1991  0.8958  0.8996  0.8947  0.8950\n",
       "1      1/3/1991  0.8950  0.9009  0.8944  0.8976\n",
       "2      1/4/1991  0.8980  0.9007  0.8966  0.8969\n",
       "3      1/7/1991  0.8964  0.9013  0.8939  0.8977\n",
       "4      1/8/1991  0.8977  0.8987  0.8941  0.8965\n",
       "...         ...     ...     ...     ...     ...\n",
       "7376  4/13/2020  0.8851  0.8918  0.8833  0.8877\n",
       "7377  4/14/2020  0.8879  0.8962  0.8864  0.8950\n",
       "7378  4/15/2020  0.8948  0.8957  0.8846  0.8910\n",
       "7379  4/16/2020  0.8921  0.8935  0.8853  0.8903\n",
       "7380  4/17/2020  0.8913  0.8975  0.8897  0.8931\n",
       "\n",
       "[7381 rows x 5 columns]"
      ]
     },
     "execution_count": 18,
     "metadata": {},
     "output_type": "execute_result"
    }
   ],
   "source": [
    "training_set"
   ]
  },
  {
   "cell_type": "code",
   "execution_count": 19,
   "metadata": {},
   "outputs": [
    {
     "data": {
      "text/html": [
       "<div>\n",
       "<style scoped>\n",
       "    .dataframe tbody tr th:only-of-type {\n",
       "        vertical-align: middle;\n",
       "    }\n",
       "\n",
       "    .dataframe tbody tr th {\n",
       "        vertical-align: top;\n",
       "    }\n",
       "\n",
       "    .dataframe thead th {\n",
       "        text-align: right;\n",
       "    }\n",
       "</style>\n",
       "<table border=\"1\" class=\"dataframe\">\n",
       "  <thead>\n",
       "    <tr style=\"text-align: right;\">\n",
       "      <th></th>\n",
       "      <th>Open</th>\n",
       "      <th>High</th>\n",
       "      <th>Low</th>\n",
       "    </tr>\n",
       "  </thead>\n",
       "  <tbody>\n",
       "    <tr>\n",
       "      <th>0</th>\n",
       "      <td>0.402706</td>\n",
       "      <td>0.382960</td>\n",
       "      <td>0.466093</td>\n",
       "    </tr>\n",
       "    <tr>\n",
       "      <th>1</th>\n",
       "      <td>0.400403</td>\n",
       "      <td>0.386792</td>\n",
       "      <td>0.465310</td>\n",
       "    </tr>\n",
       "    <tr>\n",
       "      <th>2</th>\n",
       "      <td>0.409039</td>\n",
       "      <td>0.386203</td>\n",
       "      <td>0.471049</td>\n",
       "    </tr>\n",
       "    <tr>\n",
       "      <th>3</th>\n",
       "      <td>0.404433</td>\n",
       "      <td>0.387972</td>\n",
       "      <td>0.464006</td>\n",
       "    </tr>\n",
       "    <tr>\n",
       "      <th>4</th>\n",
       "      <td>0.408175</td>\n",
       "      <td>0.380307</td>\n",
       "      <td>0.464528</td>\n",
       "    </tr>\n",
       "  </tbody>\n",
       "</table>\n",
       "</div>"
      ],
      "text/plain": [
       "       Open      High       Low\n",
       "0  0.402706  0.382960  0.466093\n",
       "1  0.400403  0.386792  0.465310\n",
       "2  0.409039  0.386203  0.471049\n",
       "3  0.404433  0.387972  0.464006\n",
       "4  0.408175  0.380307  0.464528"
      ]
     },
     "execution_count": 19,
     "metadata": {},
     "output_type": "execute_result"
    }
   ],
   "source": [
    "from sklearn.preprocessing import MinMaxScaler\n",
    "scaler = MinMaxScaler()\n",
    "feature_minmax_transform_data = scaler.fit_transform(training_set[feature_columns])\n",
    "feature_minmax_transform = pd.DataFrame(columns=feature_columns, data=feature_minmax_transform_data, index=training_set.index)\n",
    "feature_minmax_transform.head()"
   ]
  },
  {
   "cell_type": "code",
   "execution_count": 20,
   "metadata": {},
   "outputs": [],
   "source": [
    "target_adj_close = pd.DataFrame(training_set['Close'])"
   ]
  },
  {
   "cell_type": "code",
   "execution_count": 21,
   "metadata": {},
   "outputs": [
    {
     "data": {
      "text/html": [
       "<div>\n",
       "<style scoped>\n",
       "    .dataframe tbody tr th:only-of-type {\n",
       "        vertical-align: middle;\n",
       "    }\n",
       "\n",
       "    .dataframe tbody tr th {\n",
       "        vertical-align: top;\n",
       "    }\n",
       "\n",
       "    .dataframe thead th {\n",
       "        text-align: right;\n",
       "    }\n",
       "</style>\n",
       "<table border=\"1\" class=\"dataframe\">\n",
       "  <thead>\n",
       "    <tr style=\"text-align: right;\">\n",
       "      <th></th>\n",
       "      <th>Open</th>\n",
       "      <th>High</th>\n",
       "      <th>Low</th>\n",
       "    </tr>\n",
       "  </thead>\n",
       "  <tbody>\n",
       "    <tr>\n",
       "      <th>0</th>\n",
       "      <td>0.402706</td>\n",
       "      <td>0.382960</td>\n",
       "      <td>0.466093</td>\n",
       "    </tr>\n",
       "    <tr>\n",
       "      <th>1</th>\n",
       "      <td>0.400403</td>\n",
       "      <td>0.386792</td>\n",
       "      <td>0.465310</td>\n",
       "    </tr>\n",
       "    <tr>\n",
       "      <th>2</th>\n",
       "      <td>0.409039</td>\n",
       "      <td>0.386203</td>\n",
       "      <td>0.471049</td>\n",
       "    </tr>\n",
       "    <tr>\n",
       "      <th>3</th>\n",
       "      <td>0.404433</td>\n",
       "      <td>0.387972</td>\n",
       "      <td>0.464006</td>\n",
       "    </tr>\n",
       "    <tr>\n",
       "      <th>4</th>\n",
       "      <td>0.408175</td>\n",
       "      <td>0.380307</td>\n",
       "      <td>0.464528</td>\n",
       "    </tr>\n",
       "  </tbody>\n",
       "</table>\n",
       "</div>"
      ],
      "text/plain": [
       "       Open      High       Low\n",
       "0  0.402706  0.382960  0.466093\n",
       "1  0.400403  0.386792  0.465310\n",
       "2  0.409039  0.386203  0.471049\n",
       "3  0.404433  0.387972  0.464006\n",
       "4  0.408175  0.380307  0.464528"
      ]
     },
     "metadata": {},
     "output_type": "display_data"
    },
    {
     "name": "stdout",
     "output_type": "stream",
     "text": [
      "Shape of features :  (7381, 3)\n",
      "Shape of target :  (7381, 1)\n"
     ]
    },
    {
     "data": {
      "text/html": [
       "<div>\n",
       "<style scoped>\n",
       "    .dataframe tbody tr th:only-of-type {\n",
       "        vertical-align: middle;\n",
       "    }\n",
       "\n",
       "    .dataframe tbody tr th {\n",
       "        vertical-align: top;\n",
       "    }\n",
       "\n",
       "    .dataframe thead th {\n",
       "        text-align: right;\n",
       "    }\n",
       "</style>\n",
       "<table border=\"1\" class=\"dataframe\">\n",
       "  <thead>\n",
       "    <tr style=\"text-align: right;\">\n",
       "      <th></th>\n",
       "      <th>Open</th>\n",
       "      <th>High</th>\n",
       "      <th>Low</th>\n",
       "    </tr>\n",
       "  </thead>\n",
       "  <tbody>\n",
       "    <tr>\n",
       "      <th>7375</th>\n",
       "      <td>0.376223</td>\n",
       "      <td>0.353184</td>\n",
       "      <td>0.436098</td>\n",
       "    </tr>\n",
       "    <tr>\n",
       "      <th>7376</th>\n",
       "      <td>0.371906</td>\n",
       "      <td>0.359965</td>\n",
       "      <td>0.436359</td>\n",
       "    </tr>\n",
       "    <tr>\n",
       "      <th>7377</th>\n",
       "      <td>0.379965</td>\n",
       "      <td>0.372936</td>\n",
       "      <td>0.444444</td>\n",
       "    </tr>\n",
       "    <tr>\n",
       "      <th>7378</th>\n",
       "      <td>0.399827</td>\n",
       "      <td>0.371462</td>\n",
       "      <td>0.439750</td>\n",
       "    </tr>\n",
       "    <tr>\n",
       "      <th>7379</th>\n",
       "      <td>0.392055</td>\n",
       "      <td>0.364976</td>\n",
       "      <td>0.441575</td>\n",
       "    </tr>\n",
       "  </tbody>\n",
       "</table>\n",
       "</div>"
      ],
      "text/plain": [
       "          Open      High       Low\n",
       "7375  0.376223  0.353184  0.436098\n",
       "7376  0.371906  0.359965  0.436359\n",
       "7377  0.379965  0.372936  0.444444\n",
       "7378  0.399827  0.371462  0.439750\n",
       "7379  0.392055  0.364976  0.441575"
      ]
     },
     "metadata": {},
     "output_type": "display_data"
    },
    {
     "data": {
      "text/html": [
       "<div>\n",
       "<style scoped>\n",
       "    .dataframe tbody tr th:only-of-type {\n",
       "        vertical-align: middle;\n",
       "    }\n",
       "\n",
       "    .dataframe tbody tr th {\n",
       "        vertical-align: top;\n",
       "    }\n",
       "\n",
       "    .dataframe thead th {\n",
       "        text-align: right;\n",
       "    }\n",
       "</style>\n",
       "<table border=\"1\" class=\"dataframe\">\n",
       "  <thead>\n",
       "    <tr style=\"text-align: right;\">\n",
       "      <th></th>\n",
       "      <th>Close</th>\n",
       "    </tr>\n",
       "  </thead>\n",
       "  <tbody>\n",
       "    <tr>\n",
       "      <th>7375</th>\n",
       "      <td>0.8877</td>\n",
       "    </tr>\n",
       "    <tr>\n",
       "      <th>7376</th>\n",
       "      <td>0.8950</td>\n",
       "    </tr>\n",
       "    <tr>\n",
       "      <th>7377</th>\n",
       "      <td>0.8910</td>\n",
       "    </tr>\n",
       "    <tr>\n",
       "      <th>7378</th>\n",
       "      <td>0.8903</td>\n",
       "    </tr>\n",
       "    <tr>\n",
       "      <th>7379</th>\n",
       "      <td>0.8931</td>\n",
       "    </tr>\n",
       "  </tbody>\n",
       "</table>\n",
       "</div>"
      ],
      "text/plain": [
       "       Close\n",
       "7375  0.8877\n",
       "7376  0.8950\n",
       "7377  0.8910\n",
       "7378  0.8903\n",
       "7379  0.8931"
      ]
     },
     "metadata": {},
     "output_type": "display_data"
    },
    {
     "name": "stdout",
     "output_type": "stream",
     "text": [
      "\n",
      " -----After process------ \n",
      "\n",
      "Shape of features :  (7291, 3)\n",
      "Shape of target :  (7291, 1)\n"
     ]
    },
    {
     "data": {
      "text/html": [
       "<div>\n",
       "<style scoped>\n",
       "    .dataframe tbody tr th:only-of-type {\n",
       "        vertical-align: middle;\n",
       "    }\n",
       "\n",
       "    .dataframe tbody tr th {\n",
       "        vertical-align: top;\n",
       "    }\n",
       "\n",
       "    .dataframe thead th {\n",
       "        text-align: right;\n",
       "    }\n",
       "</style>\n",
       "<table border=\"1\" class=\"dataframe\">\n",
       "  <thead>\n",
       "    <tr style=\"text-align: right;\">\n",
       "      <th></th>\n",
       "      <th>Close</th>\n",
       "    </tr>\n",
       "  </thead>\n",
       "  <tbody>\n",
       "    <tr>\n",
       "      <th>7286</th>\n",
       "      <td>0.9041</td>\n",
       "    </tr>\n",
       "    <tr>\n",
       "      <th>7287</th>\n",
       "      <td>0.9005</td>\n",
       "    </tr>\n",
       "    <tr>\n",
       "      <th>7288</th>\n",
       "      <td>0.9069</td>\n",
       "    </tr>\n",
       "    <tr>\n",
       "      <th>7289</th>\n",
       "      <td>0.9041</td>\n",
       "    </tr>\n",
       "    <tr>\n",
       "      <th>7290</th>\n",
       "      <td>0.9017</td>\n",
       "    </tr>\n",
       "  </tbody>\n",
       "</table>\n",
       "</div>"
      ],
      "text/plain": [
       "       Close\n",
       "7286  0.9041\n",
       "7287  0.9005\n",
       "7288  0.9069\n",
       "7289  0.9041\n",
       "7290  0.9017"
      ]
     },
     "metadata": {},
     "output_type": "display_data"
    }
   ],
   "source": [
    "display(feature_minmax_transform.head())\n",
    "print('Shape of features : ', feature_minmax_transform.shape)\n",
    "print('Shape of target : ', target_adj_close.shape)\n",
    "\n",
    "# Shift target array because we want to predict the n + 1 day value\n",
    "\n",
    "\n",
    "target_adj_close = target_adj_close.shift(-1)\n",
    "validation_y = target_adj_close[-90:-1]\n",
    "target_adj_close = target_adj_close[:-90]\n",
    "\n",
    "# Taking last 90 rows of data to be validation set\n",
    "validation_X = feature_minmax_transform[-90:-1]\n",
    "feature_minmax_transform = feature_minmax_transform[:-90]\n",
    "display(validation_X.tail())\n",
    "display(validation_y.tail())\n",
    "\n",
    "print(\"\\n -----After process------ \\n\")\n",
    "print('Shape of features : ', feature_minmax_transform.shape)\n",
    "print('Shape of target : ', target_adj_close.shape)\n",
    "display(target_adj_close.tail())"
   ]
  },
  {
   "cell_type": "code",
   "execution_count": 22,
   "metadata": {},
   "outputs": [
    {
     "name": "stderr",
     "output_type": "stream",
     "text": [
      "Using TensorFlow backend.\n",
      "C:\\Users\\jaing5\\AppData\\Roaming\\Python\\Python37\\site-packages\\tensorflow\\python\\framework\\dtypes.py:516: FutureWarning: Passing (type, 1) or '1type' as a synonym of type is deprecated; in a future version of numpy, it will be understood as (type, (1,)) / '(1,)type'.\n",
      "  _np_qint8 = np.dtype([(\"qint8\", np.int8, 1)])\n",
      "C:\\Users\\jaing5\\AppData\\Roaming\\Python\\Python37\\site-packages\\tensorflow\\python\\framework\\dtypes.py:517: FutureWarning: Passing (type, 1) or '1type' as a synonym of type is deprecated; in a future version of numpy, it will be understood as (type, (1,)) / '(1,)type'.\n",
      "  _np_quint8 = np.dtype([(\"quint8\", np.uint8, 1)])\n",
      "C:\\Users\\jaing5\\AppData\\Roaming\\Python\\Python37\\site-packages\\tensorflow\\python\\framework\\dtypes.py:518: FutureWarning: Passing (type, 1) or '1type' as a synonym of type is deprecated; in a future version of numpy, it will be understood as (type, (1,)) / '(1,)type'.\n",
      "  _np_qint16 = np.dtype([(\"qint16\", np.int16, 1)])\n",
      "C:\\Users\\jaing5\\AppData\\Roaming\\Python\\Python37\\site-packages\\tensorflow\\python\\framework\\dtypes.py:519: FutureWarning: Passing (type, 1) or '1type' as a synonym of type is deprecated; in a future version of numpy, it will be understood as (type, (1,)) / '(1,)type'.\n",
      "  _np_quint16 = np.dtype([(\"quint16\", np.uint16, 1)])\n",
      "C:\\Users\\jaing5\\AppData\\Roaming\\Python\\Python37\\site-packages\\tensorflow\\python\\framework\\dtypes.py:520: FutureWarning: Passing (type, 1) or '1type' as a synonym of type is deprecated; in a future version of numpy, it will be understood as (type, (1,)) / '(1,)type'.\n",
      "  _np_qint32 = np.dtype([(\"qint32\", np.int32, 1)])\n",
      "C:\\Users\\jaing5\\AppData\\Roaming\\Python\\Python37\\site-packages\\tensorflow\\python\\framework\\dtypes.py:525: FutureWarning: Passing (type, 1) or '1type' as a synonym of type is deprecated; in a future version of numpy, it will be understood as (type, (1,)) / '(1,)type'.\n",
      "  np_resource = np.dtype([(\"resource\", np.ubyte, 1)])\n",
      "C:\\Users\\jaing5\\AppData\\Roaming\\Python\\Python37\\site-packages\\tensorboard\\compat\\tensorflow_stub\\dtypes.py:541: FutureWarning: Passing (type, 1) or '1type' as a synonym of type is deprecated; in a future version of numpy, it will be understood as (type, (1,)) / '(1,)type'.\n",
      "  _np_qint8 = np.dtype([(\"qint8\", np.int8, 1)])\n",
      "C:\\Users\\jaing5\\AppData\\Roaming\\Python\\Python37\\site-packages\\tensorboard\\compat\\tensorflow_stub\\dtypes.py:542: FutureWarning: Passing (type, 1) or '1type' as a synonym of type is deprecated; in a future version of numpy, it will be understood as (type, (1,)) / '(1,)type'.\n",
      "  _np_quint8 = np.dtype([(\"quint8\", np.uint8, 1)])\n",
      "C:\\Users\\jaing5\\AppData\\Roaming\\Python\\Python37\\site-packages\\tensorboard\\compat\\tensorflow_stub\\dtypes.py:543: FutureWarning: Passing (type, 1) or '1type' as a synonym of type is deprecated; in a future version of numpy, it will be understood as (type, (1,)) / '(1,)type'.\n",
      "  _np_qint16 = np.dtype([(\"qint16\", np.int16, 1)])\n",
      "C:\\Users\\jaing5\\AppData\\Roaming\\Python\\Python37\\site-packages\\tensorboard\\compat\\tensorflow_stub\\dtypes.py:544: FutureWarning: Passing (type, 1) or '1type' as a synonym of type is deprecated; in a future version of numpy, it will be understood as (type, (1,)) / '(1,)type'.\n",
      "  _np_quint16 = np.dtype([(\"quint16\", np.uint16, 1)])\n",
      "C:\\Users\\jaing5\\AppData\\Roaming\\Python\\Python37\\site-packages\\tensorboard\\compat\\tensorflow_stub\\dtypes.py:545: FutureWarning: Passing (type, 1) or '1type' as a synonym of type is deprecated; in a future version of numpy, it will be understood as (type, (1,)) / '(1,)type'.\n",
      "  _np_qint32 = np.dtype([(\"qint32\", np.int32, 1)])\n",
      "C:\\Users\\jaing5\\AppData\\Roaming\\Python\\Python37\\site-packages\\tensorboard\\compat\\tensorflow_stub\\dtypes.py:550: FutureWarning: Passing (type, 1) or '1type' as a synonym of type is deprecated; in a future version of numpy, it will be understood as (type, (1,)) / '(1,)type'.\n",
      "  np_resource = np.dtype([(\"resource\", np.ubyte, 1)])\n"
     ]
    }
   ],
   "source": [
    "import pandas as pd\n",
    "import numpy as np\n",
    "%matplotlib inline\n",
    "import matplotlib.pyplot as plt\n",
    "import matplotlib\n",
    "from sklearn.preprocessing import MinMaxScaler\n",
    "from keras.layers import LSTM,Dense,Dropout\n",
    "from sklearn.model_selection import TimeSeriesSplit\n",
    "from sklearn.metrics import mean_squared_error, r2_score\n",
    "import matplotlib.dates as mdates\n",
    "from sklearn import linear_model\n"
   ]
  },
  {
   "cell_type": "code",
   "execution_count": 25,
   "metadata": {},
   "outputs": [],
   "source": [
    "ts_split= TimeSeriesSplit(n_splits=10)\n",
    "for train_index, test_index in ts_split.split(feature_minmax_transform):\n",
    "        X_train, X_test = feature_minmax_transform[:len(train_index)], feature_minmax_transform[len(train_index): (len(train_index)+len(test_index))]\n",
    "        y_train, y_test = target_adj_close[:len(train_index)].values.ravel(), target_adj_close[len(train_index): (len(train_index)+len(test_index))].values.ravel()"
   ]
  },
  {
   "cell_type": "code",
   "execution_count": 26,
   "metadata": {},
   "outputs": [
    {
     "data": {
      "text/plain": [
       "(6629, 3)"
      ]
     },
     "execution_count": 26,
     "metadata": {},
     "output_type": "execute_result"
    }
   ],
   "source": [
    "X_train.shape"
   ]
  },
  {
   "cell_type": "code",
   "execution_count": 27,
   "metadata": {},
   "outputs": [
    {
     "data": {
      "text/plain": [
       "(662, 3)"
      ]
     },
     "execution_count": 27,
     "metadata": {},
     "output_type": "execute_result"
    }
   ],
   "source": [
    "X_test.shape"
   ]
  },
  {
   "cell_type": "code",
   "execution_count": 28,
   "metadata": {},
   "outputs": [
    {
     "data": {
      "text/plain": [
       "(6629,)"
      ]
     },
     "execution_count": 28,
     "metadata": {},
     "output_type": "execute_result"
    }
   ],
   "source": [
    "y_train.shape"
   ]
  },
  {
   "cell_type": "code",
   "execution_count": 29,
   "metadata": {},
   "outputs": [
    {
     "data": {
      "text/plain": [
       "(662,)"
      ]
     },
     "execution_count": 29,
     "metadata": {},
     "output_type": "execute_result"
    }
   ],
   "source": [
    "y_test.shape"
   ]
  },
  {
   "cell_type": "code",
   "execution_count": 30,
   "metadata": {},
   "outputs": [],
   "source": [
    "def validate_result(model, model_name):\n",
    "    predicted = model.predict(validation_X)\n",
    "    RSME_score = np.sqrt(mean_squared_error(validation_y, predicted))\n",
    "    print('RMSE: ', RSME_score)\n",
    "    \n",
    "    R2_score = r2_score(validation_y, predicted)\n",
    "    print('R2 score: ', R2_score)\n",
    "\n",
    "    plt.plot(validation_y.index, predicted,'r', label='Predict')\n",
    "    plt.plot(validation_y.index, validation_y,'b', label='Actual')\n",
    "    plt.ylabel('Price')\n",
    "    plt.gca().xaxis.set_major_formatter(mdates.DateFormatter('%Y-%m-%d'))\n",
    "    plt.gca().xaxis.set_major_locator(mdates.MonthLocator())\n",
    "    plt.title(model_name + ' Predict vs Actual')\n",
    "    plt.legend(loc='upper right')\n",
    "    plt.show()"
   ]
  },
  {
   "cell_type": "code",
   "execution_count": 31,
   "metadata": {},
   "outputs": [
    {
     "name": "stdout",
     "output_type": "stream",
     "text": [
      "RMSE:  0.009002194948393915\n",
      "R2 score:  0.7853483561038945\n"
     ]
    },
    {
     "data": {
      "image/png": "[encoded data removed]",
      "text/plain": [
       "<Figure size 432x288 with 1 Axes>"
      ]
     },
     "metadata": {
      "needs_background": "light"
     },
     "output_type": "display_data"
    }
   ],
   "source": [
    "from sklearn.tree import DecisionTreeRegressor\n",
    "\n",
    "dt = DecisionTreeRegressor(random_state=0)\n",
    "\n",
    "benchmark_dt=dt.fit(X_train, y_train)\n",
    "\n",
    "validate_result(benchmark_dt, 'Decision Tree Regression')"
   ]
  },
  {
   "cell_type": "code",
   "execution_count": 32,
   "metadata": {},
   "outputs": [],
   "source": [
    "X_train =np.array(X_train)\n",
    "X_test =np.array(X_test)\n",
    "\n",
    "X_tr_t = X_train.reshape(X_train.shape[0], 1, X_train.shape[1])\n",
    "X_tst_t = X_test.reshape(X_test.shape[0], 1, X_test.shape[1])"
   ]
  },
  {
   "cell_type": "code",
   "execution_count": 33,
   "metadata": {},
   "outputs": [
    {
     "name": "stdout",
     "output_type": "stream",
     "text": [
      "WARNING:tensorflow:From C:\\Users\\jaing5\\AppData\\Local\\Continuum\\anaconda3\\envs\\myenv\\lib\\site-packages\\keras\\backend\\tensorflow_backend.py:66: The name tf.reset_default_graph is deprecated. Please use tf.compat.v1.reset_default_graph instead.\n",
      "\n",
      "WARNING:tensorflow:From C:\\Users\\jaing5\\AppData\\Local\\Continuum\\anaconda3\\envs\\myenv\\lib\\site-packages\\keras\\backend\\tensorflow_backend.py:69: The name tf.placeholder is deprecated. Please use tf.compat.v1.placeholder instead.\n",
      "\n",
      "WARNING:tensorflow:From C:\\Users\\jaing5\\AppData\\Local\\Continuum\\anaconda3\\envs\\myenv\\lib\\site-packages\\keras\\backend\\tensorflow_backend.py:70: The name tf.get_default_graph is deprecated. Please use tf.compat.v1.get_default_graph instead.\n",
      "\n",
      "WARNING:tensorflow:From C:\\Users\\jaing5\\AppData\\Local\\Continuum\\anaconda3\\envs\\myenv\\lib\\site-packages\\keras\\backend\\tensorflow_backend.py:3147: The name tf.random_uniform is deprecated. Please use tf.random.uniform instead.\n",
      "\n",
      "WARNING:tensorflow:From C:\\Users\\jaing5\\AppData\\Local\\Continuum\\anaconda3\\envs\\myenv\\lib\\site-packages\\keras\\backend\\tensorflow_backend.py:140: The name tf.get_default_session is deprecated. Please use tf.compat.v1.get_default_session instead.\n",
      "\n",
      "WARNING:tensorflow:From C:\\Users\\jaing5\\AppData\\Local\\Continuum\\anaconda3\\envs\\myenv\\lib\\site-packages\\keras\\backend\\tensorflow_backend.py:1044: calling reduce_sum_v1 (from tensorflow.python.ops.math_ops) with keep_dims is deprecated and will be removed in a future version.\n",
      "Instructions for updating:\n",
      "keep_dims is deprecated, use keepdims instead\n",
      "WARNING:tensorflow:From C:\\Users\\jaing5\\AppData\\Local\\Continuum\\anaconda3\\envs\\myenv\\lib\\site-packages\\keras\\optimizers.py:675: The name tf.train.Optimizer is deprecated. Please use tf.compat.v1.train.Optimizer instead.\n",
      "\n",
      "WARNING:tensorflow:From C:\\Users\\jaing5\\AppData\\Roaming\\Python\\Python37\\site-packages\\tensorflow\\python\\ops\\math_grad.py:1250: add_dispatch_support.<locals>.wrapper (from tensorflow.python.ops.array_ops) is deprecated and will be removed in a future version.\n",
      "Instructions for updating:\n",
      "Use tf.where in 2.0, which has the same broadcast rule as np.where\n",
      "WARNING:tensorflow:From C:\\Users\\jaing5\\AppData\\Local\\Continuum\\anaconda3\\envs\\myenv\\lib\\site-packages\\keras\\backend\\tensorflow_backend.py:519: calling Constant.__init__ (from tensorflow.python.ops.init_ops) with dtype is deprecated and will be removed in a future version.\n",
      "Instructions for updating:\n",
      "Call initializer instance with the dtype argument instead of passing it to the constructor\n",
      "Epoch 1/40\n",
      "6629/6629 [==============================] - 3s - loss: 0.0842     \n",
      "Epoch 2/40\n",
      "6629/6629 [==============================] - 2s - loss: 0.0066     \n",
      "Epoch 3/40\n",
      "6629/6629 [==============================] - 2s - loss: 0.0017     \n",
      "Epoch 4/40\n",
      "6629/6629 [==============================] - 2s - loss: 3.4875e-04     \n",
      "Epoch 5/40\n",
      "6629/6629 [==============================] - 2s - loss: 7.6233e-05     \n",
      "Epoch 6/40\n",
      "6629/6629 [==============================] - 2s - loss: 4.5519e-05     \n",
      "Epoch 7/40\n",
      "6629/6629 [==============================] - 2s - loss: 5.1890e-05     \n",
      "Epoch 8/40\n",
      "6629/6629 [==============================] - 2s - loss: 6.5550e-05     \n",
      "Epoch 9/40\n",
      "6629/6629 [==============================] - 2s - loss: 8.1849e-05     \n",
      "Epoch 10/40\n",
      "6629/6629 [==============================] - 2s - loss: 1.0159e-04     \n",
      "Epoch 11/40\n",
      "6629/6629 [==============================] - 2s - loss: 1.1647e-04     \n",
      "Epoch 12/40\n",
      "6629/6629 [==============================] - 2s - loss: 1.2036e-04     \n",
      "Epoch 00011: early stopping\n"
     ]
    }
   ],
   "source": [
    "from keras.models import Sequential\n",
    "from keras.layers import Dense\n",
    "import keras.backend as K\n",
    "from keras.callbacks import EarlyStopping\n",
    "from keras.optimizers import Adam\n",
    "from keras.models import load_model\n",
    "from keras.layers import LSTM\n",
    "K.clear_session()\n",
    "model_lstm = Sequential()\n",
    "model_lstm.add(LSTM(16, input_shape=(1, X_train.shape[1]), activation='relu', return_sequences=False))\n",
    "model_lstm.add(Dense(1))\n",
    "model_lstm.compile(loss='mean_squared_error', optimizer='adam')\n",
    "early_stop = EarlyStopping(monitor='loss', patience=5, verbose=1)\n",
    "history_model_lstm = model_lstm.fit(X_tr_t, y_train, epochs=40, batch_size=8, verbose=1, shuffle=False, callbacks=[early_stop])"
   ]
  },
  {
   "cell_type": "code",
   "execution_count": 34,
   "metadata": {},
   "outputs": [
    {
     "name": "stdout",
     "output_type": "stream",
     "text": [
      "The R2 score on the Train set is:\t0.898\n",
      "The R2 score on the Test set is:\t0.801\n"
     ]
    }
   ],
   "source": [
    "\n",
    "y_pred_test_lstm = model_lstm.predict(X_tst_t)\n",
    "y_train_pred_lstm = model_lstm.predict(X_tr_t)\n",
    "print(\"The R2 score on the Train set is:\\t{:0.3f}\".format(r2_score(y_train, y_train_pred_lstm)))\n",
    "r2_train = r2_score(y_train, y_train_pred_lstm)\n",
    "\n",
    "print(\"The R2 score on the Test set is:\\t{:0.3f}\".format(r2_score(y_test, y_pred_test_lstm)))\n",
    "r2_test = r2_score(y_test, y_pred_test_lstm)"
   ]
  },
  {
   "cell_type": "code",
   "execution_count": 35,
   "metadata": {},
   "outputs": [
    {
     "name": "stdout",
     "output_type": "stream",
     "text": [
      "621/662 [===========================>..] - ETA: 0s"
     ]
    }
   ],
   "source": [
    "score_lstm= model_lstm.evaluate(X_tst_t, y_test, batch_size=1)"
   ]
  },
  {
   "cell_type": "code",
   "execution_count": 36,
   "metadata": {},
   "outputs": [
    {
     "name": "stdout",
     "output_type": "stream",
     "text": [
      "LSTM: 0.000233\n"
     ]
    }
   ],
   "source": [
    "print('LSTM: %f'%score_lstm)"
   ]
  },
  {
   "cell_type": "code",
   "execution_count": 39,
   "metadata": {},
   "outputs": [
    {
     "data": {
      "text/plain": [
       "array([[[0.76827864, 0.75972877, 0.7942097 ]],\n",
       "\n",
       "       [[0.76885435, 0.75324292, 0.77230047]],\n",
       "\n",
       "       [[0.75417386, 0.74056604, 0.77386541]],\n",
       "\n",
       "       ...,\n",
       "\n",
       "       [[0.42803685, 0.39799528, 0.47496088]],\n",
       "\n",
       "       [[0.41594704, 0.40831368, 0.47991654]],\n",
       "\n",
       "       [[0.43465746, 0.40713443, 0.48852374]]])"
      ]
     },
     "execution_count": 39,
     "metadata": {},
     "output_type": "execute_result"
    }
   ],
   "source": [
    "X_tst_t"
   ]
  },
  {
   "cell_type": "code",
   "execution_count": 37,
   "metadata": {},
   "outputs": [],
   "source": [
    "y_pred_test_LSTM = model_lstm.predict(X_tst_t)"
   ]
  },
  {
   "cell_type": "code",
   "execution_count": 38,
   "metadata": {},
   "outputs": [
    {
     "data": {
      "image/png": "[encoded data removed]",
      "text/plain": [
       "<Figure size 432x288 with 1 Axes>"
      ]
     },
     "metadata": {
      "needs_background": "light"
     },
     "output_type": "display_data"
    }
   ],
   "source": [
    "plt.plot(y_test, label='True')\n",
    "plt.plot(y_pred_test_LSTM, label='LSTM')\n",
    "plt.title(\"LSTM's_Prediction\")\n",
    "plt.xlabel('Observation')\n",
    "plt.ylabel('INR_Scaled')\n",
    "plt.legend()\n",
    "plt.show()"
   ]
  },
  {
   "cell_type": "code",
   "execution_count": 41,
   "metadata": {},
   "outputs": [],
   "source": [
    "col1 = pd.DataFrame(y_test, columns=['True'])\n",
    "\n",
    "col2 = pd.DataFrame(y_pred_test_LSTM, columns=['LSTM_prediction'])\n",
    "\n",
    "col3 = pd.DataFrame(history_model_lstm.history['loss'], columns=['Loss_LSTM'])\n",
    "results = pd.concat([col1, col2, col3], axis=1)\n",
    "results.to_csv('PredictionResults_LSTM_NonShift.csv')"
   ]
  },
  {
   "cell_type": "code",
   "execution_count": null,
   "metadata": {},
   "outputs": [],
   "source": []
  }
 ],
 "metadata": {
  "kernelspec": {
   "display_name": "Python [conda env:myenv] *",
   "language": "python",
   "name": "conda-env-myenv-py"
  },
  "language_info": {
   "codemirror_mode": {
    "name": "ipython",
    "version": 3
   },
   "file_extension": ".py",
   "mimetype": "text/x-python",
   "name": "python",
   "nbconvert_exporter": "python",
   "pygments_lexer": "ipython3",
   "version": "3.7.5"
  }
 },
 "nbformat": 4,
 "nbformat_minor": 2
}
